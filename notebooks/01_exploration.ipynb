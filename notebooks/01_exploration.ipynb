{
 "cells": [
  {
   "cell_type": "code",
   "id": "initial_id",
   "metadata": {
    "collapsed": true,
    "ExecuteTime": {
     "end_time": "2025-10-06T15:16:12.302205Z",
     "start_time": "2025-10-06T15:16:09.862653Z"
    }
   },
   "source": [
    "# 01_exploration.ipynb\n",
    "\n",
    "# 1) Importer nødvendige biblioteker\n",
    "import pandas as pd\n",
    "import matplotlib.pyplot as plt\n",
    "import seaborn as sns\n",
    "\n",
    "# 2) Les inn data\n",
    "df = pd.read_csv(\"../data/matches.csv\", parse_dates=[\"date\"])\n",
    "\n",
    "# 3) Sjekk de første radene\n",
    "print(\"Første 5 kamper i datasettet:\")\n",
    "display(df.head())\n",
    "\n",
    "# 4) Legg til en kolonne for totalt antall mål i kampen\n",
    "df[\"total_goals\"] = df[\"home_goals\"] + df[\"away_goals\"]\n",
    "\n",
    "# 5) Enkel statistikk\n",
    "print(\"\\nAntall kamper:\", len(df))\n",
    "print(\"Gjennomsnittlige mål per kamp:\", round(df[\"total_goals\"].mean(), 2))\n",
    "\n",
    "# 6) Lag en enkel graf\n",
    "plt.figure(figsize=(8,5))\n",
    "sns.histplot(df[\"total_goals\"], bins=range(0,7), kde=False)\n",
    "plt.title(\"Fordeling av antall mål per kamp\")\n",
    "plt.xlabel(\"Antall mål\")\n",
    "plt.ylabel(\"Antall kamper\")\n",
    "plt.show()\n",
    "\n",
    "# 7) Mål per lag (gjennomsnitt)\n",
    "avg_goals = df.groupby(\"home_team\")[[\"home_goals\"]].mean().sort_values(\"home_goals\", ascending=False)\n",
    "print(\"\\nGjennomsnittlige hjemmemål per lag:\")\n",
    "display(avg_goals.head(10))\n",
    "\n"
   ],
   "outputs": [
    {
     "name": "stdout",
     "output_type": "stream",
     "text": [
      "Første 5 kamper i datasettet:\n"
     ]
    },
    {
     "data": {
      "text/plain": [
       "        date          league  home_team  away_team  home_goals  away_goals\n",
       "0 2024-08-12  Premier League    Arsenal    Everton           2           0\n",
       "1 2024-08-13  Premier League   Man City    Chelsea           1           1\n",
       "2 2024-08-14  Premier League  Liverpool     Wolves           3           1\n",
       "3 2024-08-15  Premier League  Tottenham  Newcastle           0           2\n",
       "4 2024-08-16  Premier League   West Ham  Brentford           2           2"
      ],
      "text/html": [
       "<div>\n",
       "<style scoped>\n",
       "    .dataframe tbody tr th:only-of-type {\n",
       "        vertical-align: middle;\n",
       "    }\n",
       "\n",
       "    .dataframe tbody tr th {\n",
       "        vertical-align: top;\n",
       "    }\n",
       "\n",
       "    .dataframe thead th {\n",
       "        text-align: right;\n",
       "    }\n",
       "</style>\n",
       "<table border=\"1\" class=\"dataframe\">\n",
       "  <thead>\n",
       "    <tr style=\"text-align: right;\">\n",
       "      <th></th>\n",
       "      <th>date</th>\n",
       "      <th>league</th>\n",
       "      <th>home_team</th>\n",
       "      <th>away_team</th>\n",
       "      <th>home_goals</th>\n",
       "      <th>away_goals</th>\n",
       "    </tr>\n",
       "  </thead>\n",
       "  <tbody>\n",
       "    <tr>\n",
       "      <th>0</th>\n",
       "      <td>2024-08-12</td>\n",
       "      <td>Premier League</td>\n",
       "      <td>Arsenal</td>\n",
       "      <td>Everton</td>\n",
       "      <td>2</td>\n",
       "      <td>0</td>\n",
       "    </tr>\n",
       "    <tr>\n",
       "      <th>1</th>\n",
       "      <td>2024-08-13</td>\n",
       "      <td>Premier League</td>\n",
       "      <td>Man City</td>\n",
       "      <td>Chelsea</td>\n",
       "      <td>1</td>\n",
       "      <td>1</td>\n",
       "    </tr>\n",
       "    <tr>\n",
       "      <th>2</th>\n",
       "      <td>2024-08-14</td>\n",
       "      <td>Premier League</td>\n",
       "      <td>Liverpool</td>\n",
       "      <td>Wolves</td>\n",
       "      <td>3</td>\n",
       "      <td>1</td>\n",
       "    </tr>\n",
       "    <tr>\n",
       "      <th>3</th>\n",
       "      <td>2024-08-15</td>\n",
       "      <td>Premier League</td>\n",
       "      <td>Tottenham</td>\n",
       "      <td>Newcastle</td>\n",
       "      <td>0</td>\n",
       "      <td>2</td>\n",
       "    </tr>\n",
       "    <tr>\n",
       "      <th>4</th>\n",
       "      <td>2024-08-16</td>\n",
       "      <td>Premier League</td>\n",
       "      <td>West Ham</td>\n",
       "      <td>Brentford</td>\n",
       "      <td>2</td>\n",
       "      <td>2</td>\n",
       "    </tr>\n",
       "  </tbody>\n",
       "</table>\n",
       "</div>"
      ]
     },
     "metadata": {},
     "output_type": "display_data"
    },
    {
     "name": "stdout",
     "output_type": "stream",
     "text": [
      "\n",
      "Antall kamper: 20\n",
      "Gjennomsnittlige mål per kamp: 2.8\n"
     ]
    },
    {
     "data": {
      "text/plain": [
       "<Figure size 800x500 with 1 Axes>"
      ],
      "image/png": "[encoded data removed]"
     },
     "metadata": {},
     "output_type": "display_data"
    },
    {
     "name": "stdout",
     "output_type": "stream",
     "text": [
      "\n",
      "Gjennomsnittlige hjemmemål per lag:\n"
     ]
    },
    {
     "data": {
      "text/plain": [
       "             home_goals\n",
       "home_team              \n",
       "Newcastle           3.0\n",
       "Liverpool           3.0\n",
       "Arsenal             2.0\n",
       "Chelsea             2.0\n",
       "Brighton            2.0\n",
       "Fulham              2.0\n",
       "West Ham            2.0\n",
       "Aston Villa         1.0\n",
       "Brentford           1.0\n",
       "Man United          1.0"
      ],
      "text/html": [
       "<div>\n",
       "<style scoped>\n",
       "    .dataframe tbody tr th:only-of-type {\n",
       "        vertical-align: middle;\n",
       "    }\n",
       "\n",
       "    .dataframe tbody tr th {\n",
       "        vertical-align: top;\n",
       "    }\n",
       "\n",
       "    .dataframe thead th {\n",
       "        text-align: right;\n",
       "    }\n",
       "</style>\n",
       "<table border=\"1\" class=\"dataframe\">\n",
       "  <thead>\n",
       "    <tr style=\"text-align: right;\">\n",
       "      <th></th>\n",
       "      <th>home_goals</th>\n",
       "    </tr>\n",
       "    <tr>\n",
       "      <th>home_team</th>\n",
       "      <th></th>\n",
       "    </tr>\n",
       "  </thead>\n",
       "  <tbody>\n",
       "    <tr>\n",
       "      <th>Newcastle</th>\n",
       "      <td>3.0</td>\n",
       "    </tr>\n",
       "    <tr>\n",
       "      <th>Liverpool</th>\n",
       "      <td>3.0</td>\n",
       "    </tr>\n",
       "    <tr>\n",
       "      <th>Arsenal</th>\n",
       "      <td>2.0</td>\n",
       "    </tr>\n",
       "    <tr>\n",
       "      <th>Chelsea</th>\n",
       "      <td>2.0</td>\n",
       "    </tr>\n",
       "    <tr>\n",
       "      <th>Brighton</th>\n",
       "      <td>2.0</td>\n",
       "    </tr>\n",
       "    <tr>\n",
       "      <th>Fulham</th>\n",
       "      <td>2.0</td>\n",
       "    </tr>\n",
       "    <tr>\n",
       "      <th>West Ham</th>\n",
       "      <td>2.0</td>\n",
       "    </tr>\n",
       "    <tr>\n",
       "      <th>Aston Villa</th>\n",
       "      <td>1.0</td>\n",
       "    </tr>\n",
       "    <tr>\n",
       "      <th>Brentford</th>\n",
       "      <td>1.0</td>\n",
       "    </tr>\n",
       "    <tr>\n",
       "      <th>Man United</th>\n",
       "      <td>1.0</td>\n",
       "    </tr>\n",
       "  </tbody>\n",
       "</table>\n",
       "</div>"
      ]
     },
     "metadata": {},
     "output_type": "display_data"
    }
   ],
   "execution_count": 2
  },
  {
   "metadata": {
    "ExecuteTime": {
     "end_time": "2025-10-06T15:16:40.893155Z",
     "start_time": "2025-10-06T15:16:40.891022Z"
    }
   },
   "cell_type": "code",
   "source": "\n",
   "id": "e3e1e48153ba2af7",
   "outputs": [],
   "execution_count": 2
  },
  {
   "metadata": {
    "ExecuteTime": {
     "end_time": "2025-10-06T15:16:47.102036Z",
     "start_time": "2025-10-06T15:16:47.099325Z"
    }
   },
   "cell_type": "code",
   "source": "",
   "id": "c66e63d4bb1f1549",
   "outputs": [],
   "execution_count": null
  },
  {
   "metadata": {
    "ExecuteTime": {
     "end_time": "2025-10-06T15:16:50.772338Z",
     "start_time": "2025-10-06T15:16:50.770119Z"
    }
   },
   "cell_type": "code",
   "source": "",
   "id": "4740364285a58096",
   "outputs": [],
   "execution_count": null
  },
  {
   "metadata": {
    "ExecuteTime": {
     "end_time": "2025-10-06T15:16:53.502400Z",
     "start_time": "2025-10-06T15:16:53.500261Z"
    }
   },
   "cell_type": "code",
   "source": "",
   "id": "b0e75bab0c6b20d9",
   "outputs": [],
   "execution_count": null
  },
  {
   "metadata": {
    "ExecuteTime": {
     "end_time": "2025-10-06T15:16:55.244504Z",
     "start_time": "2025-10-06T15:16:55.242546Z"
    }
   },
   "cell_type": "code",
   "source": "",
   "id": "82c8b5f7c8f13e48",
   "outputs": [],
   "execution_count": null
  },
  {
   "metadata": {
    "ExecuteTime": {
     "end_time": "2025-10-06T15:17:00.081636Z",
     "start_time": "2025-10-06T15:17:00.079043Z"
    }
   },
   "cell_type": "code",
   "source": "",
   "id": "f39e156cc9d41f8f",
   "outputs": [],
   "execution_count": null
  },
  {
   "metadata": {},
   "cell_type": "code",
   "outputs": [],
   "execution_count": null,
   "source": "",
   "id": "f7686e6bbcb67351"
  }
 ],
 "metadata": {
  "kernelspec": {
   "display_name": "Python 3",
   "language": "python",
   "name": "python3"
  },
  "language_info": {
   "codemirror_mode": {
    "name": "ipython",
    "version": 2
   },
   "file_extension": ".py",
   "mimetype": "text/x-python",
   "name": "python",
   "nbconvert_exporter": "python",
   "pygments_lexer": "ipython2",
   "version": "2.7.6"
  }
 },
 "nbformat": 4,
 "nbformat_minor": 5
}
