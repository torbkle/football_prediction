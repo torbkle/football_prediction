{
 "cells": [
  {
   "cell_type": "code",
   "id": "initial_id",
   "metadata": {
    "collapsed": true,
    "ExecuteTime": {
     "end_time": "2025-10-06T15:30:12.684916Z",
     "start_time": "2025-10-06T15:30:12.129525Z"
    }
   },
   "source": [
    "# 02_first_model.ipynb\n",
    "\n",
    "# 1) Importer biblioteker\n",
    "import pandas as pd\n",
    "import numpy as np\n",
    "from sklearn.model_selection import train_test_split\n",
    "from sklearn.linear_model import LogisticRegression\n",
    "from sklearn.metrics import accuracy_score, classification_report, ConfusionMatrixDisplay\n",
    "import matplotlib.pyplot as plt\n",
    "\n",
    "# 2) Les inn data\n",
    "df = pd.read_csv(\"../data/matches.csv\", parse_dates=[\"date\"])\n",
    "\n",
    "# 3) Lag target-variabel (H = hjemmeseier, D = uavgjort, A = borteseier)\n",
    "def match_result(row):\n",
    "    if row[\"home_goals\"] > row[\"away_goals\"]:\n",
    "        return \"H\"\n",
    "    elif row[\"home_goals\"] < row[\"away_goals\"]:\n",
    "        return \"A\"\n",
    "    else:\n",
    "        return \"D\"\n",
    "\n",
    "df[\"result\"] = df.apply(match_result, axis=1)\n",
    "\n",
    "# 4) Bygg noen enkle features\n",
    "# - Målforskjell i kampen\n",
    "df[\"goal_diff\"] = df[\"home_goals\"] - df[\"away_goals\"]\n",
    "\n",
    "# - Hjemmelagets snittmål hittil i sesongen\n",
    "df[\"home_avg_goals\"] = df.groupby(\"home_team\")[\"home_goals\"].expanding().mean().reset_index(level=0, drop=True)\n",
    "df[\"away_avg_goals\"] = df.groupby(\"away_team\")[\"away_goals\"].expanding().mean().reset_index(level=0, drop=True)\n",
    "\n",
    "# Fyll NaN (første kamp for laget) med 0\n",
    "df = df.fillna(0)\n",
    "\n",
    "# 5) Velg features og target\n",
    "X = df[[\"goal_diff\", \"home_avg_goals\", \"away_avg_goals\"]]\n",
    "y = df[\"result\"]\n",
    "\n",
    "# 6) Splitt i trenings- og testsett\n",
    "X_train, X_test, y_train, y_test = train_test_split(X, y, test_size=0.25, shuffle=False)\n",
    "\n",
    "# 7) Tren en enkel Logistic Regression\n",
    "model = LogisticRegression(max_iter=500, multi_class=\"multinomial\")\n",
    "model.fit(X_train, y_train)\n",
    "\n",
    "# 8) Prediksjon og evaluering\n",
    "y_pred = model.predict(X_test)\n",
    "\n",
    "print(\"Accuracy:\", round(accuracy_score(y_test, y_pred), 3))\n",
    "print(\"\\nClassification report:\\n\", classification_report(y_test, y_pred))\n",
    "\n",
    "# 9) Confusion matrix\n",
    "fig, ax = plt.subplots(figsize=(5,4))\n",
    "ConfusionMatrixDisplay.from_estimator(model, X_test, y_test, ax=ax, cmap=\"Blues\")\n",
    "plt.title(\"Confusion Matrix (H/D/A)\")\n",
    "plt.show()\n",
    "\n",
    "# 10) Sjekk koeffisienter (hvilke features betyr mest)\n",
    "coef_df = pd.DataFrame(model.coef_, columns=X.columns, index=model.classes_)\n",
    "print(\"\\nFeature importance per klasse (H/D/A):\\n\")\n",
    "print(coef_df)\n"
   ],
   "outputs": [
    {
     "name": "stdout",
     "output_type": "stream",
     "text": [
      "Accuracy: 1.0\n",
      "\n",
      "Classification report:\n",
      "               precision    recall  f1-score   support\n",
      "\n",
      "           A       1.00      1.00      1.00         3\n",
      "           H       1.00      1.00      1.00         2\n",
      "\n",
      "    accuracy                           1.00         5\n",
      "   macro avg       1.00      1.00      1.00         5\n",
      "weighted avg       1.00      1.00      1.00         5\n",
      "\n"
     ]
    },
    {
     "name": "stderr",
     "output_type": "stream",
     "text": [
      "C:\\Users\\torbk\\PycharmProjects\\PythonProject\\Pfootball-prediction\\.venv\\Lib\\site-packages\\sklearn\\linear_model\\_logistic.py:1272: FutureWarning: 'multi_class' was deprecated in version 1.5 and will be removed in 1.8. From then on, it will always use 'multinomial'. Leave it to its default value to avoid this warning.\n",
      "  warnings.warn(\n"
     ]
    },
    {
     "data": {
      "text/plain": [
       "<Figure size 500x400 with 2 Axes>"
      ],
      "image/png": "[encoded data removed]"
     },
     "metadata": {},
     "output_type": "display_data"
    },
    {
     "name": "stdout",
     "output_type": "stream",
     "text": [
      "\n",
      "Feature importance per klasse (H/D/A):\n",
      "\n",
      "   goal_diff  home_avg_goals  away_avg_goals\n",
      "A  -1.186042       -0.617335        0.568707\n",
      "D   0.012213        0.167304        0.155092\n",
      "H   1.173829        0.450031       -0.723799\n"
     ]
    }
   ],
   "execution_count": 1
  },
  {
   "metadata": {
    "ExecuteTime": {
     "end_time": "2025-10-06T15:30:13.753836Z",
     "start_time": "2025-10-06T15:30:13.751614Z"
    }
   },
   "cell_type": "code",
   "source": "",
   "id": "4e660db6fbe41c49",
   "outputs": [],
   "execution_count": null
  },
  {
   "metadata": {
    "ExecuteTime": {
     "end_time": "2025-10-06T15:30:54.944052Z",
     "start_time": "2025-10-06T15:30:54.941773Z"
    }
   },
   "cell_type": "code",
   "source": "",
   "id": "73cb25d4fb7f1688",
   "outputs": [],
   "execution_count": null
  },
  {
   "metadata": {
    "ExecuteTime": {
     "end_time": "2025-10-06T15:30:56.375057Z",
     "start_time": "2025-10-06T15:30:56.372064Z"
    }
   },
   "cell_type": "code",
   "source": "",
   "id": "80ef63ed9a19f13e",
   "outputs": [],
   "execution_count": null
  },
  {
   "metadata": {},
   "cell_type": "code",
   "outputs": [],
   "execution_count": null,
   "source": "",
   "id": "fadc173bbcf53d05"
  }
 ],
 "metadata": {
  "kernelspec": {
   "display_name": "Python 3",
   "language": "python",
   "name": "python3"
  },
  "language_info": {
   "codemirror_mode": {
    "name": "ipython",
    "version": 2
   },
   "file_extension": ".py",
   "mimetype": "text/x-python",
   "name": "python",
   "nbconvert_exporter": "python",
   "pygments_lexer": "ipython2",
   "version": "2.7.6"
  }
 },
 "nbformat": 4,
 "nbformat_minor": 5
}
